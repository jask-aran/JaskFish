{
 "cells": [
  {
   "cell_type": "code",
   "execution_count": 45,
   "metadata": {},
   "outputs": [
    {
     "name": "stdout",
     "output_type": "stream",
     "text": [
      "[1, 2, 3, 4, 5, 6, 7]\n",
      "precount: 2\n",
      "testnum: 7\n",
      "postcount/ killed index: 2\n",
      "num dead: 1\n",
      "\n",
      "[1, 2, 4, 5, 6, 7]\n",
      "precount: 4\n",
      "testnum: 6\n",
      "postcount/ killed index: 4\n",
      "num dead: 2\n",
      "\n",
      "[1, 2, 4, 5, 7]\n",
      "precount: 6\n",
      "testnum: 5\n",
      "postcount/ killed index: 1\n",
      "num dead: 3\n",
      "\n",
      "[1, 4, 5, 7]\n",
      "precount: 3\n",
      "testnum: 4\n",
      "postcount/ killed index: 3\n",
      "num dead: 4\n",
      "\n",
      "[1, 4, 5]\n",
      "precount: 5\n",
      "testnum: 3\n",
      "postcount/ killed index: 2\n",
      "num dead: 5\n",
      "\n",
      "[1, 4]\n",
      "precount: 4\n",
      "testnum: 2\n",
      "postcount/ killed index: 2\n",
      "num dead: 6\n"
     ]
    },
    {
     "ename": "IndexError",
     "evalue": "pop index out of range",
     "output_type": "error",
     "traceback": [
      "\u001b[0;31m---------------------------------------------------------------------------\u001b[0m",
      "\u001b[0;31mIndexError\u001b[0m                                Traceback (most recent call last)",
      "Cell \u001b[0;32mIn[45], line 26\u001b[0m\n\u001b[1;32m     21\u001b[0m         \u001b[38;5;28mprint\u001b[39m(group)\n\u001b[1;32m     23\u001b[0m     \u001b[38;5;28;01mreturn\u001b[39;00m\n\u001b[0;32m---> 26\u001b[0m \u001b[38;5;28mprint\u001b[39m(\u001b[43mjosephus_survivor\u001b[49m\u001b[43m(\u001b[49m\u001b[38;5;241;43m7\u001b[39;49m\u001b[43m,\u001b[49m\u001b[38;5;241;43m3\u001b[39;49m\u001b[43m)\u001b[49m)\n",
      "Cell \u001b[0;32mIn[45], line 19\u001b[0m, in \u001b[0;36mjosephus_survivor\u001b[0;34m(n, k)\u001b[0m\n\u001b[1;32m     16\u001b[0m dead \u001b[38;5;241m+\u001b[39m\u001b[38;5;241m=\u001b[39m\u001b[38;5;241m1\u001b[39m\n\u001b[1;32m     18\u001b[0m \u001b[38;5;28mprint\u001b[39m(\u001b[38;5;124m'\u001b[39m\u001b[38;5;124mnum dead: \u001b[39m\u001b[38;5;124m'\u001b[39m \u001b[38;5;241m+\u001b[39m \u001b[38;5;28mstr\u001b[39m(dead))\n\u001b[0;32m---> 19\u001b[0m \u001b[43mgroup\u001b[49m\u001b[38;5;241;43m.\u001b[39;49m\u001b[43mpop\u001b[49m\u001b[43m(\u001b[49m\u001b[43mcount\u001b[49m\u001b[43m)\u001b[49m\n\u001b[1;32m     20\u001b[0m \u001b[38;5;28mprint\u001b[39m(\u001b[38;5;124m'\u001b[39m\u001b[38;5;124m'\u001b[39m)\n\u001b[1;32m     21\u001b[0m \u001b[38;5;28mprint\u001b[39m(group)\n",
      "\u001b[0;31mIndexError\u001b[0m: pop index out of range"
     ]
    }
   ],
   "source": [
    "def josephus_survivor(n,k):\n",
    "    group = [i for i in range(1,n+1)]\n",
    "    dead = 0\n",
    "    print(group)\n",
    "    count = 0\n",
    "    for i in range(n-1):\n",
    "        \n",
    "        count+=k-1\n",
    "        print('precount: ' + str(count))\n",
    "        print('testnum: ' + str(n-dead))\n",
    "        if count > (n - dead):\n",
    "            count -= (n - dead)\n",
    "        print('postcount/ killed index: ' + str(count))\n",
    "\n",
    "        \n",
    "        dead +=1\n",
    "\n",
    "        print('num dead: ' + str(dead))\n",
    "        group.pop(count)\n",
    "        print('')\n",
    "        print(group)\n",
    "            \n",
    "    return\n",
    "    \n",
    "        \n",
    "print(josephus_survivor(7,3))"
   ]
  },
  {
   "cell_type": "code",
   "execution_count": 7,
   "metadata": {},
   "outputs": [
    {
     "name": "stdout",
     "output_type": "stream",
     "text": [
      "[1, 2, 3, 4, 5, 6, 7]\n"
     ]
    }
   ],
   "source": []
  }
 ],
 "metadata": {
  "kernelspec": {
   "display_name": "Python 3",
   "language": "python",
   "name": "python3"
  },
  "language_info": {
   "codemirror_mode": {
    "name": "ipython",
    "version": 3
   },
   "file_extension": ".py",
   "mimetype": "text/x-python",
   "name": "python",
   "nbconvert_exporter": "python",
   "pygments_lexer": "ipython3",
   "version": "3.8.10"
  }
 },
 "nbformat": 4,
 "nbformat_minor": 2
}
