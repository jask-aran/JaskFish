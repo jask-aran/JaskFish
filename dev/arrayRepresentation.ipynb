{
 "cells": [
  {
   "cell_type": "code",
   "execution_count": 2,
   "metadata": {},
   "outputs": [
    {
     "name": "stdout",
     "output_type": "stream",
     "text": [
      "[0, 0, 0, 0, 0, 0, 0, 0]\n",
      "[0, 0, 0, 0, 0, 0, 0, 0]\n",
      "[0, 0, 0, 0, 0, 0, 0, 0]\n",
      "[0, 0, 0, 0, 0, 0, 0, 0]\n",
      "[0, 0, 0, 0, 0, 0, 0, 0]\n",
      "[0, 0, 0, 0, 0, 0, 0, 0]\n",
      "[0, 0, 0, 0, 0, 0, 0, 0]\n",
      "[0, 0, 0, 0, 0, 0, 0, 0]\n"
     ]
    }
   ],
   "source": [
    "board = [[0 for i in range(8)] for e in range(8)]\n",
    "\n",
    "for i in range(len(board)):\n",
    "    print(board[i])"
   ]
  },
  {
   "cell_type": "code",
   "execution_count": 3,
   "metadata": {},
   "outputs": [
    {
     "name": "stdout",
     "output_type": "stream",
     "text": [
      "♜ ♞ ♝ ♛ ♚ ♝ ♞ ♜\n",
      "♟ ♟ ♟ ♟ ♟ ♟ ♟ ♟\n",
      "               \n",
      "               \n",
      "               \n",
      "               \n",
      "♙ ♙ ♙ ♙ ♙ ♙ ♙ ♙\n",
      "♖ ♘ ♗ ♕ ♔ ♗ ♘ ♖\n"
     ]
    }
   ],
   "source": [
    "chess_board = [\n",
    "    ['♜', '♞', '♝', '♛', '♚', '♝', '♞', '♜'],\n",
    "    ['♟', '♟', '♟', '♟', '♟', '♟', '♟', '♟'],\n",
    "    [' ', ' ', ' ', ' ', ' ', ' ', ' ', ' '],\n",
    "    [' ', ' ', ' ', ' ', ' ', ' ', ' ', ' '],\n",
    "    [' ', ' ', ' ', ' ', ' ', ' ', ' ', ' '],\n",
    "    [' ', ' ', ' ', ' ', ' ', ' ', ' ', ' '],\n",
    "    ['♙', '♙', '♙', '♙', '♙', '♙', '♙', '♙'],\n",
    "    ['♖', '♘', '♗', '♕', '♔', '♗', '♘', '♖']\n",
    "]\n",
    "\n",
    "# Print the board\n",
    "for row in chess_board:\n",
    "    print(' '.join(row))\n"
   ]
  }
 ],
 "metadata": {
  "kernelspec": {
   "display_name": "Python 3",
   "language": "python",
   "name": "python3"
  },
  "language_info": {
   "codemirror_mode": {
    "name": "ipython",
    "version": 3
   },
   "file_extension": ".py",
   "mimetype": "text/x-python",
   "name": "python",
   "nbconvert_exporter": "python",
   "pygments_lexer": "ipython3",
   "version": "3.8.10"
  },
  "orig_nbformat": 4
 },
 "nbformat": 4,
 "nbformat_minor": 2
}
